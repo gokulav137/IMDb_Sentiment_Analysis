{
 "cells": [
  {
   "cell_type": "markdown",
   "metadata": {},
   "source": [
    "#IMPORTING "
   ]
  },
  {
   "cell_type": "code",
   "execution_count": 1,
   "metadata": {
    "collapsed": true
   },
   "outputs": [],
   "source": [
    "import numpy as np\n",
    "import pandas as pd\n",
    "import matplotlib.pyplot as plt\n",
    "from sklearn.model_selection import train_test_split\n",
    "from sklearn.linear_model import LogisticRegression\n",
    "from sklearn.model_selection import GridSearchCV\n",
    "from sklearn.feature_extraction.text import TfidfVectorizer\n",
    "from sklearn.pipeline import make_pipeline \n",
    "import re\n"
   ]
  },
  {
   "cell_type": "code",
   "execution_count": 2,
   "metadata": {},
   "outputs": [
    {
     "name": "stderr",
     "output_type": "stream",
     "text": [
      "[nltk_data] Downloading package punkt to\n[nltk_data]     C:\\Users\\gokul\\AppData\\Roaming\\nltk_data...\n[nltk_data]   Package punkt is already up-to-date!\n[nltk_data] Downloading package wordnet to\n[nltk_data]     C:\\Users\\gokul\\AppData\\Roaming\\nltk_data...\n[nltk_data]   Package wordnet is already up-to-date!\n"
     ]
    }
   ],
   "source": [
    "from nltk import download\n",
    "download('punkt')\n",
    "download('wordnet')\n",
    "from nltk import word_tokenize \n",
    "from nltk.tokenize import RegexpTokenizer\n",
    "from nltk.stem.porter import PorterStemmer\n",
    "from nltk.stem import WordNetLemmatizer \n"
   ]
  },
  {
   "cell_type": "markdown",
   "metadata": {},
   "source": [
    "#PROCESSING THE DATA"
   ]
  },
  {
   "cell_type": "markdown",
   "metadata": {},
   "source": [
    "Importing the datasets"
   ]
  },
  {
   "cell_type": "code",
   "execution_count": 3,
   "metadata": {},
   "outputs": [],
   "source": [
    "data=pd.read_csv('D:\\\\tensor\\\\venv\\\\imdb_small.csv')\n",
    "data_test=pd.read_csv('D:\\\\tensor\\\\venv\\\\test.csv', header=None,names=['review'])"
   ]
  },
  {
   "cell_type": "markdown",
   "metadata": {},
   "source": [
    "Exploring the data"
   ]
  },
  {
   "cell_type": "code",
   "execution_count": 4,
   "metadata": {},
   "outputs": [
    {
     "data": {
      "text/html": [
       "<div>\n",
       "<style scoped>\n",
       "    .dataframe tbody tr th:only-of-type {\n",
       "        vertical-align: middle;\n",
       "    }\n",
       "\n",
       "    .dataframe tbody tr th {\n",
       "        vertical-align: top;\n",
       "    }\n",
       "\n",
       "    .dataframe thead th {\n",
       "        text-align: right;\n",
       "    }\n",
       "</style>\n",
       "<table border=\"1\" class=\"dataframe\">\n",
       "  <thead>\n",
       "    <tr style=\"text-align: right;\">\n",
       "      <th></th>\n",
       "      <th>review</th>\n",
       "      <th>sentiment</th>\n",
       "    </tr>\n",
       "  </thead>\n",
       "  <tbody>\n",
       "    <tr>\n",
       "      <th>0</th>\n",
       "      <td>I have to differ from the other comments poste...</td>\n",
       "      <td>negative</td>\n",
       "    </tr>\n",
       "    <tr>\n",
       "      <th>1</th>\n",
       "      <td>I saw this movie with low expectations and was...</td>\n",
       "      <td>negative</td>\n",
       "    </tr>\n",
       "    <tr>\n",
       "      <th>2</th>\n",
       "      <td>Taran Adarsh a reputed critic praised such a d...</td>\n",
       "      <td>negative</td>\n",
       "    </tr>\n",
       "    <tr>\n",
       "      <th>3</th>\n",
       "      <td>When I first heard that the subject matter for...</td>\n",
       "      <td>positive</td>\n",
       "    </tr>\n",
       "    <tr>\n",
       "      <th>4</th>\n",
       "      <td>With the release of Peter Jackson's famed \"Lor...</td>\n",
       "      <td>positive</td>\n",
       "    </tr>\n",
       "  </tbody>\n",
       "</table>\n",
       "</div>"
      ],
      "text/plain": [
       "<div>\n",
       "<style scoped>\n",
       "    .dataframe tbody tr th:only-of-type {\n",
       "        vertical-align: middle;\n",
       "    }\n",
       "\n",
       "    .dataframe tbody tr th {\n",
       "        vertical-align: top;\n",
       "    }\n",
       "\n",
       "    .dataframe thead th {\n",
       "        text-align: right;\n",
       "    }\n",
       "</style>\n",
       "<table border=\"1\" class=\"dataframe\">\n",
       "  <thead>\n",
       "    <tr style=\"text-align: right;\">\n",
       "      <th></th>\n",
       "      <th>review</th>\n",
       "      <th>sentiment</th>\n",
       "    </tr>\n",
       "  </thead>\n",
       "  <tbody>\n",
       "    <tr>\n",
       "      <th>0</th>\n",
       "      <td>I have to differ from the other comments poste...</td>\n",
       "      <td>negative</td>\n",
       "    </tr>\n",
       "    <tr>\n",
       "      <th>1</th>\n",
       "      <td>I saw this movie with low expectations and was...</td>\n",
       "      <td>negative</td>\n",
       "    </tr>\n",
       "    <tr>\n",
       "      <th>2</th>\n",
       "      <td>Taran Adarsh a reputed critic praised such a d...</td>\n",
       "      <td>negative</td>\n",
       "    </tr>\n",
       "    <tr>\n",
       "      <th>3</th>\n",
       "      <td>When I first heard that the subject matter for...</td>\n",
       "      <td>positive</td>\n",
       "    </tr>\n",
       "    <tr>\n",
       "      <th>4</th>\n",
       "      <td>With the release of Peter Jackson's famed \"Lor...</td>\n",
       "      <td>positive</td>\n",
       "    </tr>\n",
       "  </tbody>\n",
       "</table>\n",
       "</div>"
      ]
     },
     "execution_count": 4,
     "metadata": {},
     "output_type": "execute_result"
    }
   ],
   "source": [
    "data.head()"
   ]
  },
  {
   "cell_type": "code",
   "execution_count": 5,
   "metadata": {},
   "outputs": [
    {
     "data": {
      "text/html": [
       "<div>\n",
       "<style scoped>\n",
       "    .dataframe tbody tr th:only-of-type {\n",
       "        vertical-align: middle;\n",
       "    }\n",
       "\n",
       "    .dataframe tbody tr th {\n",
       "        vertical-align: top;\n",
       "    }\n",
       "\n",
       "    .dataframe thead th {\n",
       "        text-align: right;\n",
       "    }\n",
       "</style>\n",
       "<table border=\"1\" class=\"dataframe\">\n",
       "  <thead>\n",
       "    <tr style=\"text-align: right;\">\n",
       "      <th></th>\n",
       "      <th>review</th>\n",
       "      <th>sentiment</th>\n",
       "    </tr>\n",
       "  </thead>\n",
       "  <tbody>\n",
       "    <tr>\n",
       "      <th>count</th>\n",
       "      <td>5000</td>\n",
       "      <td>5000</td>\n",
       "    </tr>\n",
       "    <tr>\n",
       "      <th>unique</th>\n",
       "      <td>4996</td>\n",
       "      <td>2</td>\n",
       "    </tr>\n",
       "    <tr>\n",
       "      <th>top</th>\n",
       "      <td>Not only was this movie better than all the fi...</td>\n",
       "      <td>positive</td>\n",
       "    </tr>\n",
       "    <tr>\n",
       "      <th>freq</th>\n",
       "      <td>2</td>\n",
       "      <td>2500</td>\n",
       "    </tr>\n",
       "  </tbody>\n",
       "</table>\n",
       "</div>"
      ],
      "text/plain": [
       "<div>\n",
       "<style scoped>\n",
       "    .dataframe tbody tr th:only-of-type {\n",
       "        vertical-align: middle;\n",
       "    }\n",
       "\n",
       "    .dataframe tbody tr th {\n",
       "        vertical-align: top;\n",
       "    }\n",
       "\n",
       "    .dataframe thead th {\n",
       "        text-align: right;\n",
       "    }\n",
       "</style>\n",
       "<table border=\"1\" class=\"dataframe\">\n",
       "  <thead>\n",
       "    <tr style=\"text-align: right;\">\n",
       "      <th></th>\n",
       "      <th>review</th>\n",
       "      <th>sentiment</th>\n",
       "    </tr>\n",
       "  </thead>\n",
       "  <tbody>\n",
       "    <tr>\n",
       "      <th>count</th>\n",
       "      <td>5000</td>\n",
       "      <td>5000</td>\n",
       "    </tr>\n",
       "    <tr>\n",
       "      <th>unique</th>\n",
       "      <td>4996</td>\n",
       "      <td>2</td>\n",
       "    </tr>\n",
       "    <tr>\n",
       "      <th>top</th>\n",
       "      <td>Not only was this movie better than all the fi...</td>\n",
       "      <td>positive</td>\n",
       "    </tr>\n",
       "    <tr>\n",
       "      <th>freq</th>\n",
       "      <td>2</td>\n",
       "      <td>2500</td>\n",
       "    </tr>\n",
       "  </tbody>\n",
       "</table>\n",
       "</div>"
      ]
     },
     "execution_count": 5,
     "metadata": {},
     "output_type": "execute_result"
    }
   ],
   "source": [
    "data.describe()"
   ]
  },
  {
   "cell_type": "code",
   "execution_count": 6,
   "metadata": {},
   "outputs": [
    {
     "data": {
      "text/plain": [
       "\"I saw this movie with low expectations and was not disappointed. Its so bad that it is actually funny in a very cringe worthy way.<br /><br />Gael is absolutely terrible, I mean he just cannot act, period. He should give up now, as acting is clearly not his thing.. His co-stars are about the same caliber, i'm sure my 5 year old cousin could do a better job than all of them! The director should be ashamed to have put his name on something so ridiculous.. Somehow I don't think an Oscar is on the cards for this guy.<br /><br />I have never written a comment on IMDb, but this movie was so bad I felt compelled to do so.<br /><br />If you get the chance to see this film, don't 0/10 if there was a 0\""
      ]
     },
     "execution_count": 35,
     "metadata": {},
     "output_type": "execute_result"
    }
   ],
   "source": [
    "data.review[1]"
   ]
  },
  {
   "cell_type": "markdown",
   "metadata": {},
   "source": [
    "Removing the $<br/>$ and encoding the sentiment to 1s and 0s"
   ]
  },
  {
   "cell_type": "code",
   "execution_count": 7,
   "metadata": {},
   "outputs": [],
   "source": [
    "data['review']=data['review'].replace([\"<br />\"], \" \",regex=True)\n",
    "data_test['review']=data_test['review'].replace([\"<br />\"], \" \",regex=True)\n",
    "data['y']=data['sentiment'].apply(lambda x: True if(x =='negative') else False )"
   ]
  },
  {
   "cell_type": "markdown",
   "metadata": {},
   "source": [
    "Splitting data into training and testing set"
   ]
  },
  {
   "cell_type": "code",
   "execution_count": 8,
   "metadata": {},
   "outputs": [],
   "source": [
    "train_text,test_text,train_y,test_y=train_test_split(data['review'],data['y'],stratify=data['y'],random_state=0)"
   ]
  },
  {
   "cell_type": "markdown",
   "metadata": {},
   "source": [
    "Reviewing the training set"
   ]
  },
  {
   "cell_type": "code",
   "execution_count": 9,
   "metadata": {},
   "outputs": [
    {
     "data": {
      "text/plain": [
       "1966    The New Batman Adventures (also called Gotham ...\n1215    This has to be the worst movie i've seen this ...\n2261    That was the first thing that sprang to mind a...\n2250    This has to be one of the most beautiful, movi...\n753     When I am watching a film, I am aware that it ...\n                              ...                        \n4527    Othello is set to burn the eyes of the viewers...\n4225    This movie is an almost forgotten gem from 197...\n3347    Babette's Feast, for me, is about healing: men...\n2636    I'm sorry, but this really does feel like a mo...\n2976    In December 1945 a train leaves the central st...\nName: review, Length: 3750, dtype: object"
      ]
     },
     "execution_count": 9,
     "metadata": {},
     "output_type": "execute_result"
    }
   ],
   "source": [
    "train_text"
   ]
  },
  {
   "cell_type": "code",
   "execution_count": 10,
   "metadata": {},
   "outputs": [
    {
     "data": {
      "text/plain": [
       "1966    False\n1215     True\n2261    False\n2250    False\n753      True\n        ...  \n4527     True\n4225    False\n3347    False\n2636     True\n2976    False\nName: y, Length: 3750, dtype: bool"
      ]
     },
     "execution_count": 10,
     "metadata": {},
     "output_type": "execute_result"
    }
   ],
   "source": [
    "train_y"
   ]
  },
  {
   "cell_type": "markdown",
   "metadata": {},
   "source": [
    "#Vectorizing the data"
   ]
  },
  {
   "cell_type": "markdown",
   "metadata": {},
   "source": [
    "Here we look at different type of tokenizers suitable for our task. The best tokenizer is obtained from the cross-validation score"
   ]
  },
  {
   "cell_type": "markdown",
   "metadata": {},
   "source": [
    "Using PorterStemmer with word_tokenize"
   ]
  },
  {
   "cell_type": "code",
   "execution_count": 11,
   "metadata": {},
   "outputs": [],
   "source": [
    "def token(doc):\n",
    "    return [PorterStemmer().stem(t) for t in word_tokenize(doc)if re.match(\"^[-a-zA-Z0-9_'/]+$\",t)]"
   ]
  },
  {
   "cell_type": "markdown",
   "metadata": {},
   "source": [
    "Using PorterStemmer with Regular expression specified for our particular task"
   ]
  },
  {
   "cell_type": "code",
   "execution_count": 12,
   "metadata": {},
   "outputs": [],
   "source": [
    "def tokenstem(doc):\n",
    "    return [PorterStemmer().stem(t) for t in RegexpTokenizer(r'\\d+/*\\d*|[\\?\\!]+|[\\w]+(?!\\'t)').tokenize(doc)]"
   ]
  },
  {
   "cell_type": "markdown",
   "metadata": {},
   "source": [
    "Using Lemmatization with Regular expression specified for our particular task"
   ]
  },
  {
   "cell_type": "code",
   "execution_count": 13,
   "metadata": {},
   "outputs": [],
   "source": [
    "def tokenlemma(doc):\n",
    "    return [WordNetLemmatizer().lemmatize(t,pos='a') for t in RegexpTokenizer(r'\\d+/*\\d*|[\\?\\!]+|[\\w]+(?!\\'t)').tokenize(doc)]"
   ]
  },
  {
   "cell_type": "markdown",
   "metadata": {},
   "source": [
    "From this example we can see that the tokenstem function does a good job in tokenizing the words and required characters"
   ]
  },
  {
   "cell_type": "code",
   "execution_count": 14,
   "metadata": {},
   "outputs": [
    {
     "name": "stdout",
     "output_type": "stream",
     "text": [
      "['hello', 'eight-man', 'https', ':', '//folder/web/net', 'apple/orange', \"'beed\", \"'\", 'dude/', 'it', \"'s\", 'had', \"n't\", 'have', \"n't\", '(', 'hello', ')', '1', 'grade', ':', 'D', '(', \"'hello\", \"'\", ')', '!', 'wait', 'kool', '!', 'help', '?', '10/10']\n['hello', 'eight-man', 'http', '//folder/web/net', 'apple/orang', \"'beed\", \"'\", 'dude/', 'it', \"'s\", 'had', \"n't\", 'have', \"n't\", 'hello', '1', 'grade', 'D', \"'hello\", \"'\", 'wait', 'kool', 'help', '10/10']\n['hello', 'eight', 'man', 'http', 'folder', 'web', 'net', 'appl', 'orang', 'beed', 'dude', 'it', 's', 'had', 't', 'have', 't', 'hello', '1', 'grade', 'D', 'hello', '!', 'wait', 'kool', '!', 'help', '?', '10/10']\n"
     ]
    },
    {
     "name": "stdout",
     "output_type": "stream",
     "text": [
      "['hello', 'eight', 'man', 'https', 'folder', 'web', 'net', 'apple', 'orange', 'beed', 'dude', 'it', 's', 'had', 't', 'have', 't', 'hello', '1', 'grade', 'D', 'hello', '!', 'wait', 'kool', '!', 'help', '?', '10/10']\n"
     ]
    }
   ],
   "source": [
    "g=\"hello eight-man https://folder/web/net apple/orange 'beed' dude/ it's hadn't haven't (hello) 1 grade: D ('hello') !wait kool! help? 10/10 \"\n",
    "print(word_tokenize(g))\n",
    "print(token(g))\n",
    "print(tokenstem(g))\n",
    "print(tokenlemma(g))"
   ]
  },
  {
   "cell_type": "markdown",
   "metadata": {},
   "source": [
    "#Training the model"
   ]
  },
  {
   "cell_type": "markdown",
   "metadata": {},
   "source": [
    "Here we create a pipeline which vectorizes the words using the tfidf vectorizer with the above mentioned tokenizers then does logistic regression to fit the data. A grid search is done to obtain the best parameters.(The best parameters obtained are only provided now,Stop words are not removed as they reduced the cross validation score)"
   ]
  },
  {
   "cell_type": "code",
   "execution_count": 15,
   "metadata": {},
   "outputs": [
    {
     "data": {
      "text/plain": [
       "GridSearchCV(cv=5, error_score=nan,\n             estimator=Pipeline(memory=None,\n                                steps=[('tfidfvectorizer',\n                                        TfidfVectorizer(analyzer='word',\n                                                        binary=False,\n                                                        decode_error='strict',\n                                                        dtype=<class 'numpy.float64'>,\n                                                        encoding='utf-8',\n                                                        input='content',\n                                                        lowercase=True,\n                                                        max_df=0.7,\n                                                        max_features=None,\n                                                        min_df=3,\n                                                        ngram_range=(1, 1),\n                                                        norm='l2',\n                                                        preprocessor=None,\n                                                        smooth_idf=True,\n                                                        stop_words=None...\n                                                           l1_ratio=None,\n                                                           max_iter=100000,\n                                                           multi_class='auto',\n                                                           n_jobs=None,\n                                                           penalty='l2',\n                                                           random_state=0,\n                                                           solver='lbfgs',\n                                                           tol=0.0001,\n                                                           verbose=0,\n                                                           warm_start=False))],\n                                verbose=False),\n             iid='deprecated', n_jobs=None,\n             param_grid={'logisticregression__C': [100],\n                         'tfidfvectorizer__ngram_range': [(1, 4)]},\n             pre_dispatch='2*n_jobs', refit=True, return_train_score=False,\n             scoring=None, verbose=0)"
      ]
     },
     "execution_count": 15,
     "metadata": {},
     "output_type": "execute_result"
    }
   ],
   "source": [
    "pipe = make_pipeline(TfidfVectorizer(min_df=3,max_df=.7,tokenizer=tokenstem), LogisticRegression(max_iter=100000,random_state=0)) \n",
    "param_grid = {'logisticregression__C': [100],\"tfidfvectorizer__ngram_range\": [(1, 4)]}\n",
    "grid = GridSearchCV(pipe, param_grid, cv=5) \n",
    "grid.fit(train_text, train_y)"
   ]
  },
  {
   "cell_type": "markdown",
   "metadata": {},
   "source": [
    "The best parameters are obtained"
   ]
  },
  {
   "cell_type": "code",
   "execution_count": 16,
   "metadata": {},
   "outputs": [
    {
     "name": "stdout",
     "output_type": "stream",
     "text": [
      "Best cross-validation score:  0.8728\nprameters: {'logisticregression__C': 100, 'tfidfvectorizer__ngram_range': (1, 4)}\n"
     ]
    }
   ],
   "source": [
    "print(\"Best cross-validation score: \", grid.best_score_)\n",
    "print(\"prameters:\",grid.best_params_)"
   ]
  },
  {
   "cell_type": "code",
   "execution_count": 17,
   "metadata": {},
   "outputs": [],
   "source": [
    "vectorizer = grid.best_estimator_.named_steps[\"tfidfvectorizer\"]\n",
    "X_train = vectorizer.transform(train_text)\n",
    "max_value = X_train.max(axis=0).toarray().ravel()\n",
    "sorted_by_tfidf = max_value.argsort()\n",
    "feature_names = np.array(vectorizer.get_feature_names())"
   ]
  },
  {
   "cell_type": "markdown",
   "metadata": {},
   "source": [
    "#RESULTS"
   ]
  },
  {
   "cell_type": "markdown",
   "metadata": {},
   "source": [
    "Features on the basis of weight given by tfidf"
   ]
  },
  {
   "cell_type": "code",
   "execution_count": 18,
   "metadata": {},
   "outputs": [
    {
     "name": "stdout",
     "output_type": "stream",
     "text": [
      "93596\n['what s go to' 'hold on to the' 'is that the film' 'for the local'\n 'is shown to be' 'archaeologist' 'marriag but' 'here there s a'\n 'blown to' '1870' 'hi henchmen' 'but that he' 'so as not to' 'as not to'\n 'plot and charact' 'so as not' 'novel ha' 'on the fact'\n 'on the fact that' 'receiv it']\n['seagal' 'phoeb' 'gypsi' 'fulci' 'greek' 'bart' 'gamera' 'vs' 'lundgren'\n 'herschel' 'tarzan' 'gein' 'homer' 'biko' 'edmund' 'cat' 'joan' 'sheba'\n 'uzumaki' 'ernest']\n"
     ]
    }
   ],
   "source": [
    "print(len(feature_names[sorted_by_tfidf]))\n",
    "print(feature_names[sorted_by_tfidf[0:20]])\n",
    "print(feature_names[sorted_by_tfidf[-20:]])"
   ]
  },
  {
   "cell_type": "markdown",
   "metadata": {},
   "source": [
    "The coefficients with most weights given by Logistic regression"
   ]
  },
  {
   "cell_type": "code",
   "execution_count": 19,
   "metadata": {},
   "outputs": [
    {
     "name": "stdout",
     "output_type": "stream",
     "text": [
      "['great' 'excel' 'well' 'still' 'enjoy' 'love' 'beauti' 'dvd' 'best'\n 'veri' 'definit' 'you' 'a great' 'brilliant' 'wonder' 'most' 'alway'\n 'fun' 'favorit' 'differ' 'love it' 'the best' 'perfect' 'year' 'life'\n 'highli' 'hilari' 'amaz' 'today' 'perform' 'highli recommend' 'superb'\n 'have to' 'learn' 'my favorit' 'both' 'true' 'a wonder' 'i love' '10/10'] \nPositive sentiment tokens\n ['instead' 'have been' 'to be' 'annoy' 't even' 'cheap' 'poorli' 'wast of'\n 'director' 'line' 'predict' 'idea' 'wors' 'do' 'badli' 'even' 'kill'\n 'embarrass' 'unfortun' 'script' 'ridicul' 'fail' 't' 'tri' 'horribl' 'no'\n 'stupid' 'noth' 'ani' 'minut' 'disappoint' 'poor' 'terribl' 'bore' 'aw'\n 'the worst' '?' 'wast' 'bad' 'worst'] \nNegative sentiment tokens\n"
     ]
    }
   ],
   "source": [
    "feature_names_sorted=feature_names[np.argsort(grid.best_estimator_.named_steps[\"logisticregression\"].coef_)[-1,:]]\n",
    "print(feature_names_sorted[0:40],'\\nPositive sentiment tokens\\n',feature_names_sorted[-40:],'\\nNegative sentiment tokens')"
   ]
  },
  {
   "cell_type": "markdown",
   "metadata": {},
   "source": [
    "Test score is calculated"
   ]
  },
  {
   "cell_type": "code",
   "execution_count": 20,
   "metadata": {},
   "outputs": [
    {
     "data": {
      "text/plain": [
       "0.8896"
      ]
     },
     "execution_count": 20,
     "metadata": {},
     "output_type": "execute_result"
    }
   ],
   "source": [
    "grid.score(test_text, test_y)"
   ]
  },
  {
   "cell_type": "code",
   "execution_count": 21,
   "metadata": {},
   "outputs": [],
   "source": [
    "data_test['sentiment']=grid.predict(data_test['review'])\n",
    "data_test['sentiment']=data_test['sentiment'].apply(lambda x: \"positive\" if(x ==False) else \"negative\" )"
   ]
  },
  {
   "cell_type": "code",
   "execution_count": 22,
   "metadata": {},
   "outputs": [
    {
     "data": {
      "text/html": [
       "<div>\n",
       "<style scoped>\n",
       "    .dataframe tbody tr th:only-of-type {\n",
       "        vertical-align: middle;\n",
       "    }\n",
       "\n",
       "    .dataframe tbody tr th {\n",
       "        vertical-align: top;\n",
       "    }\n",
       "\n",
       "    .dataframe thead th {\n",
       "        text-align: right;\n",
       "    }\n",
       "</style>\n",
       "<table border=\"1\" class=\"dataframe\">\n",
       "  <thead>\n",
       "    <tr style=\"text-align: right;\">\n",
       "      <th></th>\n",
       "      <th>review</th>\n",
       "      <th>sentiment</th>\n",
       "    </tr>\n",
       "  </thead>\n",
       "  <tbody>\n",
       "    <tr>\n",
       "      <th>0</th>\n",
       "      <td>I laughed all the way through this rotten movi...</td>\n",
       "      <td>negative</td>\n",
       "    </tr>\n",
       "    <tr>\n",
       "      <th>1</th>\n",
       "      <td>I've just watched Fingersmith, and I'm stunned...</td>\n",
       "      <td>negative</td>\n",
       "    </tr>\n",
       "    <tr>\n",
       "      <th>2</th>\n",
       "      <td>I liked the movie towards the firat half but t...</td>\n",
       "      <td>negative</td>\n",
       "    </tr>\n",
       "    <tr>\n",
       "      <th>3</th>\n",
       "      <td>The movie Bad boys for life has a good trailer</td>\n",
       "      <td>negative</td>\n",
       "    </tr>\n",
       "    <tr>\n",
       "      <th>4</th>\n",
       "      <td>Is nothing else on TV? Are you really bored? W...</td>\n",
       "      <td>negative</td>\n",
       "    </tr>\n",
       "    <tr>\n",
       "      <th>5</th>\n",
       "      <td>Normally I don't like series at all. They're a...</td>\n",
       "      <td>negative</td>\n",
       "    </tr>\n",
       "    <tr>\n",
       "      <th>6</th>\n",
       "      <td>This show makes absolutely no sense. Every wee...</td>\n",
       "      <td>negative</td>\n",
       "    </tr>\n",
       "    <tr>\n",
       "      <th>7</th>\n",
       "      <td>I watched this movie for the hot guy--and even...</td>\n",
       "      <td>negative</td>\n",
       "    </tr>\n",
       "    <tr>\n",
       "      <th>8</th>\n",
       "      <td>I consider myself a bit of a connoisseur of bo...</td>\n",
       "      <td>positive</td>\n",
       "    </tr>\n",
       "    <tr>\n",
       "      <th>9</th>\n",
       "      <td>I have watched this movie countless times, and...</td>\n",
       "      <td>positive</td>\n",
       "    </tr>\n",
       "    <tr>\n",
       "      <th>10</th>\n",
       "      <td>I did not expect much from this film, but boy-...</td>\n",
       "      <td>negative</td>\n",
       "    </tr>\n",
       "    <tr>\n",
       "      <th>11</th>\n",
       "      <td>Despite having an absolutely horrid script (mo...</td>\n",
       "      <td>positive</td>\n",
       "    </tr>\n",
       "  </tbody>\n",
       "</table>\n",
       "</div>"
      ],
      "text/plain": [
       "<div>\n",
       "<style scoped>\n",
       "    .dataframe tbody tr th:only-of-type {\n",
       "        vertical-align: middle;\n",
       "    }\n",
       "\n",
       "    .dataframe tbody tr th {\n",
       "        vertical-align: top;\n",
       "    }\n",
       "\n",
       "    .dataframe thead th {\n",
       "        text-align: right;\n",
       "    }\n",
       "</style>\n",
       "<table border=\"1\" class=\"dataframe\">\n",
       "  <thead>\n",
       "    <tr style=\"text-align: right;\">\n",
       "      <th></th>\n",
       "      <th>review</th>\n",
       "      <th>sentiment</th>\n",
       "    </tr>\n",
       "  </thead>\n",
       "  <tbody>\n",
       "    <tr>\n",
       "      <th>0</th>\n",
       "      <td>I laughed all the way through this rotten movi...</td>\n",
       "      <td>negative</td>\n",
       "    </tr>\n",
       "    <tr>\n",
       "      <th>1</th>\n",
       "      <td>I've just watched Fingersmith, and I'm stunned...</td>\n",
       "      <td>negative</td>\n",
       "    </tr>\n",
       "    <tr>\n",
       "      <th>2</th>\n",
       "      <td>I liked the movie towards the firat half but t...</td>\n",
       "      <td>negative</td>\n",
       "    </tr>\n",
       "    <tr>\n",
       "      <th>3</th>\n",
       "      <td>The movie Bad boys for life has a good trailer</td>\n",
       "      <td>negative</td>\n",
       "    </tr>\n",
       "    <tr>\n",
       "      <th>4</th>\n",
       "      <td>Is nothing else on TV? Are you really bored? W...</td>\n",
       "      <td>negative</td>\n",
       "    </tr>\n",
       "    <tr>\n",
       "      <th>5</th>\n",
       "      <td>Normally I don't like series at all. They're a...</td>\n",
       "      <td>negative</td>\n",
       "    </tr>\n",
       "    <tr>\n",
       "      <th>6</th>\n",
       "      <td>This show makes absolutely no sense. Every wee...</td>\n",
       "      <td>negative</td>\n",
       "    </tr>\n",
       "    <tr>\n",
       "      <th>7</th>\n",
       "      <td>I watched this movie for the hot guy--and even...</td>\n",
       "      <td>negative</td>\n",
       "    </tr>\n",
       "    <tr>\n",
       "      <th>8</th>\n",
       "      <td>I consider myself a bit of a connoisseur of bo...</td>\n",
       "      <td>positive</td>\n",
       "    </tr>\n",
       "    <tr>\n",
       "      <th>9</th>\n",
       "      <td>I have watched this movie countless times, and...</td>\n",
       "      <td>positive</td>\n",
       "    </tr>\n",
       "    <tr>\n",
       "      <th>10</th>\n",
       "      <td>I did not expect much from this film, but boy-...</td>\n",
       "      <td>negative</td>\n",
       "    </tr>\n",
       "    <tr>\n",
       "      <th>11</th>\n",
       "      <td>Despite having an absolutely horrid script (mo...</td>\n",
       "      <td>positive</td>\n",
       "    </tr>\n",
       "  </tbody>\n",
       "</table>\n",
       "</div>"
      ]
     },
     "execution_count": 22,
     "metadata": {},
     "output_type": "execute_result"
    }
   ],
   "source": [
    "data_test.head(12)"
   ]
  },
  {
   "cell_type": "code",
   "execution_count": null,
   "metadata": {},
   "outputs": [],
   "source": []
  }
 ],
 "metadata": {
  "kernelspec": {
   "display_name": "Python 2",
   "language": "python",
   "name": "python2"
  },
  "language_info": {
   "codemirror_mode": {
    "name": "ipython",
    "version": 2
   },
   "file_extension": ".py",
   "mimetype": "text/x-python",
   "name": "python",
   "nbconvert_exporter": "python",
   "pygments_lexer": "ipython2",
   "version": "2.7.6"
  }
 },
 "nbformat": 4,
 "nbformat_minor": 0
}
